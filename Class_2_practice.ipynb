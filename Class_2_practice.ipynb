{
  "nbformat": 4,
  "nbformat_minor": 0,
  "metadata": {
    "colab": {
      "name": "Class 2 practice.ipynb",
      "provenance": [],
      "authorship_tag": "ABX9TyNP2okbaQdqtswV04pDgQGK",
      "include_colab_link": true
    },
    "kernelspec": {
      "name": "python3",
      "display_name": "Python 3"
    },
    "language_info": {
      "name": "python"
    }
  },
  "cells": [
    {
      "cell_type": "markdown",
      "metadata": {
        "id": "view-in-github",
        "colab_type": "text"
      },
      "source": [
        "<a href=\"https://colab.research.google.com/github/wallis05/Python/blob/main/Class_2_practice.ipynb\" target=\"_parent\"><img src=\"https://colab.research.google.com/assets/colab-badge.svg\" alt=\"Open In Colab\"/></a>"
      ]
    },
    {
      "cell_type": "markdown",
      "metadata": {
        "id": "G1qHvgldkOTg"
      },
      "source": [
        "**Condition Statements**"
      ]
    },
    {
      "cell_type": "code",
      "metadata": {
        "colab": {
          "base_uri": "https://localhost:8080/"
        },
        "id": "q5TVQwQzkNX3",
        "outputId": "8d2bd519-edc1-42bf-92bd-3df5b703bd91"
      },
      "source": [
        "# Condition Equal\n",
        "\n",
        "a = 5\n",
        "a == 6"
      ],
      "execution_count": null,
      "outputs": [
        {
          "output_type": "execute_result",
          "data": {
            "text/plain": [
              "False"
            ]
          },
          "metadata": {
            "tags": []
          },
          "execution_count": 2
        }
      ]
    },
    {
      "cell_type": "code",
      "metadata": {
        "colab": {
          "base_uri": "https://localhost:8080/"
        },
        "id": "3GsouFyPkwvq",
        "outputId": "92a51b2c-13dc-4f0c-d63b-e434aa5b3bf2"
      },
      "source": [
        "# Greater than Sign\n",
        "\n",
        "i = 6\n",
        "i > 5"
      ],
      "execution_count": null,
      "outputs": [
        {
          "output_type": "execute_result",
          "data": {
            "text/plain": [
              "True"
            ]
          },
          "metadata": {
            "tags": []
          },
          "execution_count": 3
        }
      ]
    },
    {
      "cell_type": "code",
      "metadata": {
        "colab": {
          "base_uri": "https://localhost:8080/"
        },
        "id": "PeygP5qgk7nf",
        "outputId": "714fae31-bed5-4edf-e7eb-5ac188f5498d"
      },
      "source": [
        "# Greater than Sign\n",
        "\n",
        "i = 2\n",
        "i > 5"
      ],
      "execution_count": null,
      "outputs": [
        {
          "output_type": "execute_result",
          "data": {
            "text/plain": [
              "False"
            ]
          },
          "metadata": {
            "tags": []
          },
          "execution_count": 4
        }
      ]
    },
    {
      "cell_type": "code",
      "metadata": {
        "colab": {
          "base_uri": "https://localhost:8080/"
        },
        "id": "MA0fSwZsk_UQ",
        "outputId": "1ffac7d7-cc98-4ac7-a552-30595eacadbc"
      },
      "source": [
        "# Inequality Sign\n",
        "\n",
        "i = 2\n",
        "i != 6"
      ],
      "execution_count": null,
      "outputs": [
        {
          "output_type": "execute_result",
          "data": {
            "text/plain": [
              "True"
            ]
          },
          "metadata": {
            "tags": []
          },
          "execution_count": 5
        }
      ]
    },
    {
      "cell_type": "code",
      "metadata": {
        "colab": {
          "base_uri": "https://localhost:8080/"
        },
        "id": "SeYM7G20lR0Z",
        "outputId": "a4d7050d-bedf-4221-85bf-8b7338a67c0f"
      },
      "source": [
        "# Use Equality Sign to compare the strings\n",
        "\n",
        "\"ACDC\" == \"Michael Jackson\""
      ],
      "execution_count": null,
      "outputs": [
        {
          "output_type": "execute_result",
          "data": {
            "text/plain": [
              "False"
            ]
          },
          "metadata": {
            "tags": []
          },
          "execution_count": 6
        }
      ]
    },
    {
      "cell_type": "markdown",
      "metadata": {
        "id": "-e2-O254mXKQ"
      },
      "source": [
        "**in the following cell Python compare ASCII code for those two letters**"
      ]
    },
    {
      "cell_type": "code",
      "metadata": {
        "colab": {
          "base_uri": "https://localhost:8080/"
        },
        "id": "Uussk1PDlo7N",
        "outputId": "89e793f1-5ed6-4518-9526-78a27cd39f48"
      },
      "source": [
        "'B' > 'A'"
      ],
      "execution_count": null,
      "outputs": [
        {
          "output_type": "execute_result",
          "data": {
            "text/plain": [
              "True"
            ]
          },
          "metadata": {
            "tags": []
          },
          "execution_count": 7
        }
      ]
    },
    {
      "cell_type": "code",
      "metadata": {
        "colab": {
          "base_uri": "https://localhost:8080/"
        },
        "id": "OoKNPuvUmRQn",
        "outputId": "ed3b6774-4558-4516-da17-373bfe1390a6"
      },
      "source": [
        "# Compare Characters\n",
        "\n",
        "'BA' > 'AB'"
      ],
      "execution_count": null,
      "outputs": [
        {
          "output_type": "execute_result",
          "data": {
            "text/plain": [
              "True"
            ]
          },
          "metadata": {
            "tags": []
          },
          "execution_count": 8
        }
      ]
    },
    {
      "cell_type": "markdown",
      "metadata": {
        "id": "Zh_qja-kmtdb"
      },
      "source": [
        "Branching:\n",
        "\n"
      ]
    },
    {
      "cell_type": "code",
      "metadata": {
        "colab": {
          "base_uri": "https://localhost:8080/"
        },
        "id": "ZSa78Z9omloP",
        "outputId": "4fb2dd6a-bfea-4e53-a52a-a1c50268ab3b"
      },
      "source": [
        "# If statement example\n",
        "age = 19\n",
        "#age = 18\n",
        "\n",
        "#expression that can be true or false\n",
        "if age > 18:\n",
        "    \n",
        "    #within an indent, we have the expression that is run if the condition is true\n",
        "    print(\"you can enter\" )\n",
        "\n",
        "#The statements after the if statement will run regardless if the condition is true or false \n",
        "print(\"move on\")"
      ],
      "execution_count": null,
      "outputs": [
        {
          "output_type": "stream",
          "text": [
            "you can enter\n",
            "move on\n"
          ],
          "name": "stdout"
        }
      ]
    },
    {
      "cell_type": "code",
      "metadata": {
        "colab": {
          "base_uri": "https://localhost:8080/"
        },
        "id": "7l0H0h6Sni-o",
        "outputId": "61f096f4-3bcd-4f1b-8146-24a2685f3eb3"
      },
      "source": [
        "# If statement example\n",
        "age = 19\n",
        "age = 18\n",
        "\n",
        "#expression that can be true or false\n",
        "if age > 18:\n",
        "    \n",
        "    #within an indent, we have the expression that is run if the condition is true\n",
        "    print(\"you can enter\" )\n",
        "\n",
        "#The statements after the if statement will run regardless if the condition is true or false \n",
        "print(\"move on\")"
      ],
      "execution_count": null,
      "outputs": [
        {
          "output_type": "stream",
          "text": [
            "move on\n"
          ],
          "name": "stdout"
        }
      ]
    },
    {
      "cell_type": "code",
      "metadata": {
        "colab": {
          "base_uri": "https://localhost:8080/"
        },
        "id": "fcbBPtNon5Dg",
        "outputId": "66a599ab-6923-4953-e2f3-ba817acbc94a"
      },
      "source": [
        "# Else statement example\n",
        "\n",
        "age = 18\n",
        "# age = 19\n",
        "\n",
        "if age > 18:\n",
        "    print(\"you can enter\" )\n",
        "else:\n",
        "    print(\"go see Meat Loaf\" )\n",
        "    \n",
        "print(\"move on\")"
      ],
      "execution_count": null,
      "outputs": [
        {
          "output_type": "stream",
          "text": [
            "go see Meat Loaf\n",
            "move on\n"
          ],
          "name": "stdout"
        }
      ]
    },
    {
      "cell_type": "code",
      "metadata": {
        "colab": {
          "base_uri": "https://localhost:8080/"
        },
        "id": "Ys1tw4seoT2_",
        "outputId": "4ed0b65f-be65-4419-86c9-10200792f77b"
      },
      "source": [
        "# Else statement example\n",
        "\n",
        "age = 18\n",
        "age = 19\n",
        "\n",
        "if age > 18:\n",
        "    print(\"you can enter\" )\n",
        "else:\n",
        "    print(\"go see Meat Loaf\" )\n",
        "    \n",
        "print(\"move on\")"
      ],
      "execution_count": null,
      "outputs": [
        {
          "output_type": "stream",
          "text": [
            "you can enter\n",
            "move on\n"
          ],
          "name": "stdout"
        }
      ]
    },
    {
      "cell_type": "markdown",
      "metadata": {
        "id": "MNYJ-ttMpWVQ"
      },
      "source": [
        "**Elif uses for multiple conditions**"
      ]
    },
    {
      "cell_type": "code",
      "metadata": {
        "colab": {
          "base_uri": "https://localhost:8080/"
        },
        "id": "bu1UzWo3ohAJ",
        "outputId": "311bfcf4-5d94-4b24-bc62-feddae84a52f"
      },
      "source": [
        "# Elif statment example\n",
        "\n",
        "age = 18\n",
        "\n",
        "if age > 18:\n",
        "    print(\"you can enter\" )\n",
        "elif age == 18:\n",
        "    print(\"go see Pink Floyd\")\n",
        "else:\n",
        "    print(\"go see Meat Loaf\" )\n",
        "    \n",
        "print(\"move on\")"
      ],
      "execution_count": null,
      "outputs": [
        {
          "output_type": "stream",
          "text": [
            "go see Pink Floyd\n",
            "move on\n"
          ],
          "name": "stdout"
        }
      ]
    },
    {
      "cell_type": "markdown",
      "metadata": {
        "id": "NKnPxzSo5Rj8"
      },
      "source": [
        "**Logical Operations**  \n",
        "and  \n",
        "or  \n",
        "not"
      ]
    },
    {
      "cell_type": "markdown",
      "metadata": {
        "id": "gpiF6ELB5fgg"
      },
      "source": [
        "A: 2 > 4 ---> Bool(A) = False\n",
        "\n",
        "B: 17 > 10 ---> Bool(B) = True"
      ]
    },
    {
      "cell_type": "code",
      "metadata": {
        "colab": {
          "base_uri": "https://localhost:8080/"
        },
        "id": "z9spCip25LwO",
        "outputId": "39c0ea26-efd4-4cf5-8656-c329e6fd9140"
      },
      "source": [
        "# Condition statement example ---> and\n",
        "\n",
        "album_year = 1980\n",
        "\n",
        "if (album_year > 1979) and (album_year < 1990):\n",
        "    print (\"Album year was in between 1980 and 1989\")\n",
        "    \n",
        "print(\"\")\n",
        "print(\"Do Stuff..\")"
      ],
      "execution_count": null,
      "outputs": [
        {
          "output_type": "stream",
          "text": [
            "Album year was in between 1980 and 1989\n",
            "\n",
            "Do Stuff..\n"
          ],
          "name": "stdout"
        }
      ]
    },
    {
      "cell_type": "code",
      "metadata": {
        "colab": {
          "base_uri": "https://localhost:8080/"
        },
        "id": "B2XDH5KQ67CX",
        "outputId": "55319534-d5e3-4032-8816-bb39de98bf77"
      },
      "source": [
        "# Condition statement example ---> or\n",
        "\n",
        "album_year = 1990\n",
        "\n",
        "if (album_year < 1980) or (album_year > 1989):\n",
        "    print (\"Album was not made in the 1980's\")\n",
        "else:\n",
        "    print(\"The Album was made in the 1980's \")"
      ],
      "execution_count": null,
      "outputs": [
        {
          "output_type": "stream",
          "text": [
            "Album was not made in the 1980's\n"
          ],
          "name": "stdout"
        }
      ]
    },
    {
      "cell_type": "code",
      "metadata": {
        "colab": {
          "base_uri": "https://localhost:8080/"
        },
        "id": "9x2qwJMa7aGO",
        "outputId": "1bce066a-deb2-465c-c4ca-f4a6e4fd9711"
      },
      "source": [
        "# Condition statement example ---> not\n",
        "\n",
        "album_year = 1983\n",
        "\n",
        "if not (album_year == 1984):\n",
        "    print (\"Album year is not 1984\")"
      ],
      "execution_count": null,
      "outputs": [
        {
          "output_type": "stream",
          "text": [
            "Album year is not 1984\n"
          ],
          "name": "stdout"
        }
      ]
    },
    {
      "cell_type": "markdown",
      "metadata": {
        "id": "Imqk8axo75sO"
      },
      "source": [
        "**Loop**  \n",
        "for loop  \n",
        "\n",
        "while loop"
      ]
    },
    {
      "cell_type": "markdown",
      "metadata": {
        "id": "NSGp4Zxb8NJO"
      },
      "source": [
        "**Range**"
      ]
    },
    {
      "cell_type": "code",
      "metadata": {
        "colab": {
          "base_uri": "https://localhost:8080/"
        },
        "id": "yVf061r28LsO",
        "outputId": "68164d05-d269-42bc-81c8-7071ced8f593"
      },
      "source": [
        "range(3)"
      ],
      "execution_count": null,
      "outputs": [
        {
          "output_type": "execute_result",
          "data": {
            "text/plain": [
              "range(0, 3)"
            ]
          },
          "metadata": {
            "tags": []
          },
          "execution_count": 25
        }
      ]
    },
    {
      "cell_type": "code",
      "metadata": {
        "colab": {
          "base_uri": "https://localhost:8080/"
        },
        "id": "u2uZE1bI8cUP",
        "outputId": "c4df188a-0d34-4e28-f1ea-06ba130d0b6e"
      },
      "source": [
        "list(range(3))"
      ],
      "execution_count": null,
      "outputs": [
        {
          "output_type": "execute_result",
          "data": {
            "text/plain": [
              "[0, 1, 2]"
            ]
          },
          "metadata": {
            "tags": []
          },
          "execution_count": 26
        }
      ]
    },
    {
      "cell_type": "code",
      "metadata": {
        "colab": {
          "base_uri": "https://localhost:8080/"
        },
        "id": "wR5vL_Zk8f59",
        "outputId": "b79b3224-ec64-44cc-db42-afcced293ff6"
      },
      "source": [
        "list(range(12))"
      ],
      "execution_count": null,
      "outputs": [
        {
          "output_type": "execute_result",
          "data": {
            "text/plain": [
              "[0, 1, 2, 3, 4, 5, 6, 7, 8, 9, 10, 11]"
            ]
          },
          "metadata": {
            "tags": []
          },
          "execution_count": 27
        }
      ]
    },
    {
      "cell_type": "code",
      "metadata": {
        "colab": {
          "base_uri": "https://localhost:8080/"
        },
        "id": "-J72AMfQ8muA",
        "outputId": "689dabb2-7ef4-444b-b103-11ab057f5fe0"
      },
      "source": [
        "list(range(1,12,2))"
      ],
      "execution_count": null,
      "outputs": [
        {
          "output_type": "execute_result",
          "data": {
            "text/plain": [
              "[1, 3, 5, 7, 9, 11]"
            ]
          },
          "metadata": {
            "tags": []
          },
          "execution_count": 28
        }
      ]
    },
    {
      "cell_type": "markdown",
      "metadata": {
        "id": "yQP8BVqy8tRX"
      },
      "source": [
        "**for loop**  \n",
        "\n",
        "uses when you know how many times you're going to repeat"
      ]
    },
    {
      "cell_type": "code",
      "metadata": {
        "colab": {
          "base_uri": "https://localhost:8080/"
        },
        "id": "YHH939xm81Ra",
        "outputId": "11796df4-429c-426d-b16d-bc7f7ba030c1"
      },
      "source": [
        "# For loop example  ---> uses when you know how many times you're going to repeat\n",
        "\n",
        "dates = [1982,1980,1973]\n",
        "N = len(dates)\n",
        "\n",
        "for i in range(N):\n",
        "  print(i)\n",
        "  print(dates[i])\n",
        "  print(80 * '=')"
      ],
      "execution_count": null,
      "outputs": [
        {
          "output_type": "stream",
          "text": [
            "0\n",
            "1982\n",
            "================================================================================\n",
            "1\n",
            "1980\n",
            "================================================================================\n",
            "2\n",
            "1973\n",
            "================================================================================\n"
          ],
          "name": "stdout"
        }
      ]
    },
    {
      "cell_type": "code",
      "metadata": {
        "colab": {
          "base_uri": "https://localhost:8080/"
        },
        "id": "5t5CdKZs-Rlv",
        "outputId": "930bdef6-77f1-4bae-89d8-b700781e4672"
      },
      "source": [
        "list(range(1,3))"
      ],
      "execution_count": null,
      "outputs": [
        {
          "output_type": "execute_result",
          "data": {
            "text/plain": [
              "[1, 2]"
            ]
          },
          "metadata": {
            "tags": []
          },
          "execution_count": 41
        }
      ]
    },
    {
      "cell_type": "markdown",
      "metadata": {
        "id": "TB-PIQy6-vFM"
      },
      "source": [
        "in Python we can directly access the elements in the list as follows:"
      ]
    },
    {
      "cell_type": "code",
      "metadata": {
        "colab": {
          "base_uri": "https://localhost:8080/"
        },
        "id": "kRX3A8pb_Dx5",
        "outputId": "a3aff675-5ecb-4f9e-e56d-a275925812e2"
      },
      "source": [
        "# Example of for loop, loop through list ---> This approach is better\n",
        "\n",
        "dates = [1982,1980,1973]\n",
        "for year in dates:\n",
        "    print(year)"
      ],
      "execution_count": null,
      "outputs": [
        {
          "output_type": "stream",
          "text": [
            "1982\n",
            "1980\n",
            "1973\n"
          ],
          "name": "stdout"
        }
      ]
    },
    {
      "cell_type": "code",
      "metadata": {
        "colab": {
          "base_uri": "https://localhost:8080/"
        },
        "id": "J_kk32Yc_vh-",
        "outputId": "348f851f-d23d-468e-add8-3d2b67b21168"
      },
      "source": [
        "dates = [1982,1980,1973]\n",
        "N = len(dates)\n",
        "\n",
        "for i in range(N):\n",
        "  print(dates[i])"
      ],
      "execution_count": null,
      "outputs": [
        {
          "output_type": "stream",
          "text": [
            "1982\n",
            "1980\n",
            "1973\n"
          ],
          "name": "stdout"
        }
      ]
    },
    {
      "cell_type": "code",
      "metadata": {
        "colab": {
          "base_uri": "https://localhost:8080/"
        },
        "id": "bEUXLCayAT6X",
        "outputId": "c4cfb06d-bd3f-4eab-d557-c881fc5b49ce"
      },
      "source": [
        "# Use for loop to change the elements in list\n",
        "\n",
        "squares = ['red', 'yellow', 'green', 'purple', 'blue']\n",
        "\n",
        "for i in range(0,5):\n",
        "   print(\"Before square \", i, 'is', squares[i])\n",
        "   squares[i] = 'weight'\n",
        "   print(\"After square \", i, 'is', squares[i])"
      ],
      "execution_count": null,
      "outputs": [
        {
          "output_type": "stream",
          "text": [
            "Before square  0 is red\n",
            "After square  0 is weight\n",
            "Before square  1 is yellow\n",
            "After square  1 is weight\n",
            "Before square  2 is green\n",
            "After square  2 is weight\n",
            "Before square  3 is purple\n",
            "After square  3 is weight\n",
            "Before square  4 is blue\n",
            "After square  4 is weight\n"
          ],
          "name": "stdout"
        }
      ]
    },
    {
      "cell_type": "code",
      "metadata": {
        "colab": {
          "base_uri": "https://localhost:8080/"
        },
        "id": "LTpTcRZ6Bho-",
        "outputId": "73924aee-528d-48fe-f446-97c3218c686a"
      },
      "source": [
        "squares"
      ],
      "execution_count": null,
      "outputs": [
        {
          "output_type": "execute_result",
          "data": {
            "text/plain": [
              "['weight', 'weight', 'weight', 'weight', 'weight']"
            ]
          },
          "metadata": {
            "tags": []
          },
          "execution_count": 57
        }
      ]
    },
    {
      "cell_type": "markdown",
      "metadata": {
        "id": "lLqhPyFnB0dH"
      },
      "source": [
        "**while loop**  \n",
        "\n",
        "uses when you do not know how many times you're going to repeat"
      ]
    },
    {
      "cell_type": "code",
      "metadata": {
        "colab": {
          "base_uri": "https://localhost:8080/"
        },
        "id": "oZ5lbW45B3-O",
        "outputId": "135cd726-5f2f-446c-96db-773a9045b827"
      },
      "source": [
        "# while loop example  \n",
        "\n",
        "dates = [1982 ,1980 ,1973, 2000]\n",
        "\n",
        "i = 0\n",
        "year = 0\n",
        "\n",
        "while (year != 1973):\n",
        "  year = dates[i]\n",
        "  i = i + 1\n",
        "  print(year)\n",
        "  \n",
        "print(\"It took\", i, \"repetitions to get out of loop.\")"
      ],
      "execution_count": null,
      "outputs": [
        {
          "output_type": "stream",
          "text": [
            "1982\n",
            "1980\n",
            "1973\n",
            "It took 3 repetitions to get out of loop.\n"
          ],
          "name": "stdout"
        }
      ]
    },
    {
      "cell_type": "markdown",
      "metadata": {
        "id": "zGwm1X4emmFM"
      },
      "source": [
        "**Library**  \n",
        "algorithm; values; fuctions; methods  \n",
        "\n",
        "**method** is a specific type of task or fuction that is applied on a specific type of objects."
      ]
    },
    {
      "cell_type": "code",
      "metadata": {
        "colab": {
          "base_uri": "https://localhost:8080/",
          "height": 35
        },
        "id": "qyCfxkgsmpXI",
        "outputId": "9908dd4b-6928-4a69-85c9-bc88bb1524fd"
      },
      "source": [
        "# lower is only applied on a string objects\n",
        "A = \"ARASH\"\n",
        "A.lower()"
      ],
      "execution_count": null,
      "outputs": [
        {
          "output_type": "execute_result",
          "data": {
            "application/vnd.google.colaboratory.intrinsic+json": {
              "type": "string"
            },
            "text/plain": [
              "'arash'"
            ]
          },
          "metadata": {
            "tags": []
          },
          "execution_count": 1
        }
      ]
    },
    {
      "cell_type": "code",
      "metadata": {
        "id": "r8iAezvtrgez"
      },
      "source": [
        "# Import the libraries\n",
        "\n",
        "# numpy library\n",
        "\n",
        "\n",
        "import time\n",
        "import sys\n",
        "import numpy as np\n",
        "\n",
        "import matplotlib.pyplot as plt\n",
        "%matplotlib inline"
      ],
      "execution_count": null,
      "outputs": []
    },
    {
      "cell_type": "code",
      "metadata": {
        "colab": {
          "base_uri": "https://localhost:8080/"
        },
        "id": "clE-rTv6tGzo",
        "outputId": "e699c7f5-a1be-4f94-e6f9-f3a81abcb4a4"
      },
      "source": [
        "# Create a python list\n",
        "a = [\"0\", 1, \"two\", \"3\", 4]\n",
        "a"
      ],
      "execution_count": null,
      "outputs": [
        {
          "output_type": "execute_result",
          "data": {
            "text/plain": [
              "['0', 1, 'two', '3', 4]"
            ]
          },
          "metadata": {
            "tags": []
          },
          "execution_count": 6
        }
      ]
    },
    {
      "cell_type": "code",
      "metadata": {
        "colab": {
          "base_uri": "https://localhost:8080/"
        },
        "id": "VV8uZ8Ictl1L",
        "outputId": "a4281733-e785-49eb-a32a-f3129a6ec84a"
      },
      "source": [
        "#print each element\n",
        "\n",
        "print(\"a[0]:\", a[0])\n",
        "print(\"a[1]:\", a[1])\n",
        "print(\"a[2]:\", a[2])\n",
        "print(\"a[3]:\", a[3])\n",
        "print(\"a[4]:\", a[4])"
      ],
      "execution_count": null,
      "outputs": [
        {
          "output_type": "stream",
          "text": [
            "a[0]: 0\n",
            "a[1]: 1\n",
            "a[2]: two\n",
            "a[3]: 3\n",
            "a[4]: 4\n"
          ],
          "name": "stdout"
        }
      ]
    },
    {
      "cell_type": "code",
      "metadata": {
        "colab": {
          "base_uri": "https://localhost:8080/"
        },
        "id": "gbZkKcVKuDC8",
        "outputId": "6623cc8a-54ab-414a-f037-66cc2bdfd421"
      },
      "source": [
        "# Create a numpy array\n",
        "\n",
        "a = np.array([0, 1, 2, 3, 4])\n",
        "a"
      ],
      "execution_count": null,
      "outputs": [
        {
          "output_type": "execute_result",
          "data": {
            "text/plain": [
              "array([0, 1, 2, 3, 4])"
            ]
          },
          "metadata": {
            "tags": []
          },
          "execution_count": 8
        }
      ]
    },
    {
      "cell_type": "code",
      "metadata": {
        "colab": {
          "base_uri": "https://localhost:8080/"
        },
        "id": "THox4JWmuMp8",
        "outputId": "629dfdba-b047-430e-f15a-03a971fa2e23"
      },
      "source": [
        "type(a)"
      ],
      "execution_count": null,
      "outputs": [
        {
          "output_type": "execute_result",
          "data": {
            "text/plain": [
              "numpy.ndarray"
            ]
          },
          "metadata": {
            "tags": []
          },
          "execution_count": 9
        }
      ]
    },
    {
      "cell_type": "code",
      "metadata": {
        "colab": {
          "base_uri": "https://localhost:8080/"
        },
        "id": "H_ODfSI_uRp8",
        "outputId": "007645b6-5bf1-42c4-fd2c-619beb17091c"
      },
      "source": [
        "#print each element of numpy array\n",
        "\n",
        "print(\"a[0]:\", a[0])\n",
        "print(\"a[1]:\", a[1])\n",
        "print(\"a[2]:\", a[2])\n",
        "print(\"a[3]:\", a[3])\n",
        "print(\"a[4]:\", a[4])"
      ],
      "execution_count": null,
      "outputs": [
        {
          "output_type": "stream",
          "text": [
            "a[0]: 0\n",
            "a[1]: 1\n",
            "a[2]: 2\n",
            "a[3]: 3\n",
            "a[4]: 4\n"
          ],
          "name": "stdout"
        }
      ]
    },
    {
      "cell_type": "code",
      "metadata": {
        "colab": {
          "base_uri": "https://localhost:8080/"
        },
        "id": "1zBSknKEur_L",
        "outputId": "e8d73547-c1a2-47ec-dfb8-234ad67ae866"
      },
      "source": [
        "#check data type\n",
        "\n",
        "a.dtype"
      ],
      "execution_count": null,
      "outputs": [
        {
          "output_type": "execute_result",
          "data": {
            "text/plain": [
              "dtype('int64')"
            ]
          },
          "metadata": {
            "tags": []
          },
          "execution_count": 12
        }
      ]
    },
    {
      "cell_type": "code",
      "metadata": {
        "id": "ZdulomBBu3tH"
      },
      "source": [
        "# Create a numpy array\n",
        "\n",
        "b = np.array([3.1, 11.02, 6.2, 213.2, 5.2])"
      ],
      "execution_count": null,
      "outputs": []
    },
    {
      "cell_type": "code",
      "metadata": {
        "colab": {
          "base_uri": "https://localhost:8080/"
        },
        "id": "8L6eqCVHvCE2",
        "outputId": "809ffe48-edcd-46c1-df86-6acd934bd635"
      },
      "source": [
        "type(b)"
      ],
      "execution_count": null,
      "outputs": [
        {
          "output_type": "execute_result",
          "data": {
            "text/plain": [
              "numpy.ndarray"
            ]
          },
          "metadata": {
            "tags": []
          },
          "execution_count": 15
        }
      ]
    },
    {
      "cell_type": "code",
      "metadata": {
        "colab": {
          "base_uri": "https://localhost:8080/"
        },
        "id": "32FtRAwNvIE5",
        "outputId": "a11857ad-7e0d-444c-9218-628dfdf49e5c"
      },
      "source": [
        "#check data type\n",
        "\n",
        "b.dtype"
      ],
      "execution_count": null,
      "outputs": [
        {
          "output_type": "execute_result",
          "data": {
            "text/plain": [
              "dtype('float64')"
            ]
          },
          "metadata": {
            "tags": []
          },
          "execution_count": 16
        }
      ]
    },
    {
      "cell_type": "code",
      "metadata": {
        "colab": {
          "base_uri": "https://localhost:8080/"
        },
        "id": "jZhLXpIlvePN",
        "outputId": "2a89d7d3-44bf-4c73-8149-71d044fc8526"
      },
      "source": [
        "# Create a numpy array\n",
        "\n",
        "c = np.array([20, 1, 2, 3, 4])\n",
        "c"
      ],
      "execution_count": null,
      "outputs": [
        {
          "output_type": "execute_result",
          "data": {
            "text/plain": [
              "array([20,  1,  2,  3,  4])"
            ]
          },
          "metadata": {
            "tags": []
          },
          "execution_count": 17
        }
      ]
    },
    {
      "cell_type": "code",
      "metadata": {
        "colab": {
          "base_uri": "https://localhost:8080/"
        },
        "id": "Umgxa0GFvZ9L",
        "outputId": "2488f8af-d2df-43c6-f6a0-6c1246f069c9"
      },
      "source": [
        "c[0] = 100\n",
        "c"
      ],
      "execution_count": null,
      "outputs": [
        {
          "output_type": "execute_result",
          "data": {
            "text/plain": [
              "array([100,   1,   2,   3,   4])"
            ]
          },
          "metadata": {
            "tags": []
          },
          "execution_count": 19
        }
      ]
    },
    {
      "cell_type": "markdown",
      "metadata": {
        "id": "t2SwnKySvsdy"
      },
      "source": [
        "Slicing"
      ]
    },
    {
      "cell_type": "code",
      "metadata": {
        "colab": {
          "base_uri": "https://localhost:8080/"
        },
        "id": "kx9FOEkMvulW",
        "outputId": "29ed4003-8b2b-40c0-eda8-6a0a6ce007fa"
      },
      "source": [
        "#Slicing the numpy array\n",
        "\n",
        "d = c[1:4]\n",
        "d"
      ],
      "execution_count": null,
      "outputs": [
        {
          "output_type": "execute_result",
          "data": {
            "text/plain": [
              "array([1, 2, 3])"
            ]
          },
          "metadata": {
            "tags": []
          },
          "execution_count": 20
        }
      ]
    },
    {
      "cell_type": "code",
      "metadata": {
        "colab": {
          "base_uri": "https://localhost:8080/"
        },
        "id": "x3UajMF7v5wW",
        "outputId": "82627b30-3f08-4411-b416-4e5868be8a00"
      },
      "source": [
        "#Set the fourth element and fifth element to 300 and 400\n",
        "\n",
        "c[3:5] = 300, 400\n",
        "c"
      ],
      "execution_count": null,
      "outputs": [
        {
          "output_type": "execute_result",
          "data": {
            "text/plain": [
              "array([100,   1,   2, 300, 400])"
            ]
          },
          "metadata": {
            "tags": []
          },
          "execution_count": 21
        }
      ]
    },
    {
      "cell_type": "code",
      "metadata": {
        "id": "dywM3LlpwKx4"
      },
      "source": [
        "# Create the index list\n",
        "\n",
        "select =[0, 2, 3]"
      ],
      "execution_count": null,
      "outputs": []
    },
    {
      "cell_type": "code",
      "metadata": {
        "colab": {
          "base_uri": "https://localhost:8080/"
        },
        "id": "xI43NY-Jwron",
        "outputId": "0485dc70-0d20-4c62-d21e-06a75af5bc65"
      },
      "source": [
        "print(c)"
      ],
      "execution_count": null,
      "outputs": [
        {
          "output_type": "stream",
          "text": [
            "[100   1   2 300 400]\n"
          ],
          "name": "stdout"
        }
      ]
    },
    {
      "cell_type": "code",
      "metadata": {
        "colab": {
          "base_uri": "https://localhost:8080/"
        },
        "id": "XrhOUEVGwWGB",
        "outputId": "3e035499-fb2c-44a5-8ff4-e0dd8c4c9dc8"
      },
      "source": [
        "# Use list to select element\n",
        "\n",
        "d = c[select]\n",
        "d"
      ],
      "execution_count": null,
      "outputs": [
        {
          "output_type": "execute_result",
          "data": {
            "text/plain": [
              "array([100,   2, 300])"
            ]
          },
          "metadata": {
            "tags": []
          },
          "execution_count": 26
        }
      ]
    },
    {
      "cell_type": "code",
      "metadata": {
        "colab": {
          "base_uri": "https://localhost:8080/"
        },
        "id": "LKfuYsQIwvbc",
        "outputId": "5d78d19c-cf35-4bfd-f371-cf74e7552a3f"
      },
      "source": [
        "# Assign the specified elements to new value\n",
        "\n",
        "c[select] = 100000\n",
        "c"
      ],
      "execution_count": null,
      "outputs": [
        {
          "output_type": "execute_result",
          "data": {
            "text/plain": [
              "array([100000,      1, 100000, 100000,    400])"
            ]
          },
          "metadata": {
            "tags": []
          },
          "execution_count": 27
        }
      ]
    },
    {
      "cell_type": "code",
      "metadata": {
        "colab": {
          "base_uri": "https://localhost:8080/"
        },
        "id": "YBf88Jarw98R",
        "outputId": "eee71f79-c739-4753-a910-7363433d8e21"
      },
      "source": [
        "# Create a numpy array\n",
        "\n",
        "a = np.array([0, 1, 2, 3, 4])\n",
        "a"
      ],
      "execution_count": null,
      "outputs": [
        {
          "output_type": "execute_result",
          "data": {
            "text/plain": [
              "array([0, 1, 2, 3, 4])"
            ]
          },
          "metadata": {
            "tags": []
          },
          "execution_count": 28
        }
      ]
    },
    {
      "cell_type": "code",
      "metadata": {
        "colab": {
          "base_uri": "https://localhost:8080/"
        },
        "id": "3rg_4v9YxDJM",
        "outputId": "38d985a2-ebc9-4f60-acda-8701801415ec"
      },
      "source": [
        "# Get the size of numpy array\n",
        "\n",
        "a.size"
      ],
      "execution_count": null,
      "outputs": [
        {
          "output_type": "execute_result",
          "data": {
            "text/plain": [
              "5"
            ]
          },
          "metadata": {
            "tags": []
          },
          "execution_count": 29
        }
      ]
    },
    {
      "cell_type": "code",
      "metadata": {
        "colab": {
          "base_uri": "https://localhost:8080/"
        },
        "id": "8nVZq3tNzrYz",
        "outputId": "6ce5d410-d4ad-4323-ec6c-f4ccac9fa87f"
      },
      "source": [
        "# Get the number of dimensions of numpy array\n",
        "\n",
        "a.ndim"
      ],
      "execution_count": null,
      "outputs": [
        {
          "output_type": "execute_result",
          "data": {
            "text/plain": [
              "1"
            ]
          },
          "metadata": {
            "tags": []
          },
          "execution_count": 31
        }
      ]
    },
    {
      "cell_type": "code",
      "metadata": {
        "colab": {
          "base_uri": "https://localhost:8080/"
        },
        "id": "XxdVnypfz1ol",
        "outputId": "6765c18d-b72c-44cc-c0b1-34726de28a65"
      },
      "source": [
        "# Get the shape/size of numpy array\n",
        "\n",
        "a.shape"
      ],
      "execution_count": null,
      "outputs": [
        {
          "output_type": "execute_result",
          "data": {
            "text/plain": [
              "(5,)"
            ]
          },
          "metadata": {
            "tags": []
          },
          "execution_count": 32
        }
      ]
    },
    {
      "cell_type": "code",
      "metadata": {
        "colab": {
          "base_uri": "https://localhost:8080/"
        },
        "id": "JZO3ee_5z7dr",
        "outputId": "b33ae411-5e0a-4e9f-d524-3ad20a1c242c"
      },
      "source": [
        "# Get the mean of numpy array\n",
        "\n",
        "print(a)\n",
        "\n",
        "mean = a.mean()\n",
        "mean"
      ],
      "execution_count": null,
      "outputs": [
        {
          "output_type": "stream",
          "text": [
            "[0 1 2 3 4]\n"
          ],
          "name": "stdout"
        },
        {
          "output_type": "execute_result",
          "data": {
            "text/plain": [
              "2.0"
            ]
          },
          "metadata": {
            "tags": []
          },
          "execution_count": 34
        }
      ]
    },
    {
      "cell_type": "code",
      "metadata": {
        "colab": {
          "base_uri": "https://localhost:8080/"
        },
        "id": "BX6zr_F_0L5_",
        "outputId": "4ad1bdf3-99f3-4c42-dd76-c69d9aedc84b"
      },
      "source": [
        "# Get the standard deviation of numpy array\n",
        "\n",
        "standard_deviation = a.std()\n",
        "standard_deviation"
      ],
      "execution_count": null,
      "outputs": [
        {
          "output_type": "execute_result",
          "data": {
            "text/plain": [
              "1.4142135623730951"
            ]
          },
          "metadata": {
            "tags": []
          },
          "execution_count": 35
        }
      ]
    },
    {
      "cell_type": "code",
      "metadata": {
        "colab": {
          "base_uri": "https://localhost:8080/"
        },
        "id": "wPNhMonx0WhK",
        "outputId": "71cb9282-8e29-447a-f1bd-31e0c6368e8f"
      },
      "source": [
        "# Create a numpy array\n",
        "\n",
        "b = np.array([-1, 2, 3, 4, 5])\n",
        "b"
      ],
      "execution_count": null,
      "outputs": [
        {
          "output_type": "execute_result",
          "data": {
            "text/plain": [
              "array([-1,  2,  3,  4,  5])"
            ]
          },
          "metadata": {
            "tags": []
          },
          "execution_count": 39
        }
      ]
    },
    {
      "cell_type": "code",
      "metadata": {
        "colab": {
          "base_uri": "https://localhost:8080/"
        },
        "id": "7gbrilfb0kGN",
        "outputId": "ed1309bd-8e69-4364-e6ab-13de503b1fb7"
      },
      "source": [
        "max_b = b.max()\n",
        "max_b"
      ],
      "execution_count": null,
      "outputs": [
        {
          "output_type": "execute_result",
          "data": {
            "text/plain": [
              "5"
            ]
          },
          "metadata": {
            "tags": []
          },
          "execution_count": 40
        }
      ]
    },
    {
      "cell_type": "code",
      "metadata": {
        "colab": {
          "base_uri": "https://localhost:8080/"
        },
        "id": "q0dXHmuZ0qhi",
        "outputId": "ba89bf81-b2d8-432b-9d9b-d7e8a6dab387"
      },
      "source": [
        "min_b = b.min()\n",
        "min_b"
      ],
      "execution_count": null,
      "outputs": [
        {
          "output_type": "execute_result",
          "data": {
            "text/plain": [
              "-1"
            ]
          },
          "metadata": {
            "tags": []
          },
          "execution_count": 42
        }
      ]
    },
    {
      "cell_type": "code",
      "metadata": {
        "colab": {
          "base_uri": "https://localhost:8080/"
        },
        "id": "qv0t-k5D0veZ",
        "outputId": "f819cb4f-7b73-45e3-8ced-80253eb21685"
      },
      "source": [
        "#array operation\n",
        "\n",
        "u = np.array([1,0])\n",
        "u"
      ],
      "execution_count": null,
      "outputs": [
        {
          "output_type": "execute_result",
          "data": {
            "text/plain": [
              "array([1, 0])"
            ]
          },
          "metadata": {
            "tags": []
          },
          "execution_count": 46
        }
      ]
    },
    {
      "cell_type": "code",
      "metadata": {
        "colab": {
          "base_uri": "https://localhost:8080/"
        },
        "id": "-DkTFzN504Gd",
        "outputId": "bd591b6e-f7e0-43c8-fc4c-b154be10b350"
      },
      "source": [
        "v = np.array([0,1])\n",
        "v"
      ],
      "execution_count": null,
      "outputs": [
        {
          "output_type": "execute_result",
          "data": {
            "text/plain": [
              "array([0, 1])"
            ]
          },
          "metadata": {
            "tags": []
          },
          "execution_count": 44
        }
      ]
    },
    {
      "cell_type": "code",
      "metadata": {
        "colab": {
          "base_uri": "https://localhost:8080/"
        },
        "id": "ORcmYF4u08G1",
        "outputId": "aa4127f8-abe0-4401-e122-6161ab0c35f0"
      },
      "source": [
        "#array operation\n",
        "\n",
        "z = u + v\n",
        "z"
      ],
      "execution_count": null,
      "outputs": [
        {
          "output_type": "execute_result",
          "data": {
            "text/plain": [
              "array([1, 1])"
            ]
          },
          "metadata": {
            "tags": []
          },
          "execution_count": 47
        }
      ]
    },
    {
      "cell_type": "code",
      "metadata": {
        "colab": {
          "base_uri": "https://localhost:8080/"
        },
        "id": "ZFxoT_9W1H_k",
        "outputId": "84367894-5c40-4680-9587-7b4d32c9ba1c"
      },
      "source": [
        "# The value of pie\n",
        "\n",
        "np.pi"
      ],
      "execution_count": null,
      "outputs": [
        {
          "output_type": "execute_result",
          "data": {
            "text/plain": [
              "3.141592653589793"
            ]
          },
          "metadata": {
            "tags": []
          },
          "execution_count": 56
        }
      ]
    },
    {
      "cell_type": "markdown",
      "metadata": {
        "id": "HSRDCLBG19Tw"
      },
      "source": [
        "Linespace"
      ]
    },
    {
      "cell_type": "code",
      "metadata": {
        "colab": {
          "base_uri": "https://localhost:8080/"
        },
        "id": "yBztdKzv1_FP",
        "outputId": "d3e63688-4df7-48cf-f17f-e166e51855a4"
      },
      "source": [
        "# Maeup a numpy array within [-2, 2] and 5 elements\n",
        "\n",
        "np.linspace(-2, 2, num=5)"
      ],
      "execution_count": null,
      "outputs": [
        {
          "output_type": "execute_result",
          "data": {
            "text/plain": [
              "array([-2., -1.,  0.,  1.,  2.])"
            ]
          },
          "metadata": {
            "tags": []
          },
          "execution_count": 59
        }
      ]
    },
    {
      "cell_type": "markdown",
      "metadata": {
        "id": "E0w-zfLK2f25"
      },
      "source": [
        "2D values/ 2D tables"
      ]
    },
    {
      "cell_type": "code",
      "metadata": {
        "colab": {
          "base_uri": "https://localhost:8080/"
        },
        "id": "kngluJl02ZOf",
        "outputId": "9158e62d-0bbf-49fb-bc40-3ca0855965a1"
      },
      "source": [
        "# Create a list\n",
        "\n",
        "a =[[11, 12, 13], [21, 22, 23], [31, 32, 33]]\n",
        "a"
      ],
      "execution_count": null,
      "outputs": [
        {
          "output_type": "execute_result",
          "data": {
            "text/plain": [
              "[[11, 12, 13], [21, 22, 23], [31, 32, 33]]"
            ]
          },
          "metadata": {
            "tags": []
          },
          "execution_count": 60
        }
      ]
    },
    {
      "cell_type": "code",
      "metadata": {
        "colab": {
          "base_uri": "https://localhost:8080/"
        },
        "id": "h_ouCjnG2y2p",
        "outputId": "4acecf9e-1d92-4524-e56f-a344d03bd1f4"
      },
      "source": [
        "# Convert list to numpy array\n",
        "# Every element is the same type\n",
        "\n",
        "A = np.array(a)\n",
        "A"
      ],
      "execution_count": null,
      "outputs": [
        {
          "output_type": "execute_result",
          "data": {
            "text/plain": [
              "array([[11, 12, 13],\n",
              "       [21, 22, 23],\n",
              "       [31, 32, 33]])"
            ]
          },
          "metadata": {
            "tags": []
          },
          "execution_count": 61
        }
      ]
    },
    {
      "cell_type": "code",
      "metadata": {
        "colab": {
          "base_uri": "https://localhost:8080/"
        },
        "id": "7C-5eRfT3Al0",
        "outputId": "25c7c41b-0397-464a-81d8-88069101a82c"
      },
      "source": [
        "A.ndim"
      ],
      "execution_count": null,
      "outputs": [
        {
          "output_type": "execute_result",
          "data": {
            "text/plain": [
              "2"
            ]
          },
          "metadata": {
            "tags": []
          },
          "execution_count": 62
        }
      ]
    },
    {
      "cell_type": "code",
      "metadata": {
        "colab": {
          "base_uri": "https://localhost:8080/"
        },
        "id": "83tAP3Ij3Fxq",
        "outputId": "9f8882fd-ff01-4a13-d89d-8d61ae8db41a"
      },
      "source": [
        "# Show the numpy array shape\n",
        "\n",
        "A.shape"
      ],
      "execution_count": null,
      "outputs": [
        {
          "output_type": "execute_result",
          "data": {
            "text/plain": [
              "(3, 3)"
            ]
          },
          "metadata": {
            "tags": []
          },
          "execution_count": 63
        }
      ]
    },
    {
      "cell_type": "code",
      "metadata": {
        "colab": {
          "base_uri": "https://localhost:8080/"
        },
        "id": "tT9jqXs53L0n",
        "outputId": "9776c356-7a05-4fcb-8001-2f570aaae4c2"
      },
      "source": [
        "# Show the size of numpy array\n",
        "\n",
        "A.size"
      ],
      "execution_count": null,
      "outputs": [
        {
          "output_type": "execute_result",
          "data": {
            "text/plain": [
              "9"
            ]
          },
          "metadata": {
            "tags": []
          },
          "execution_count": 64
        }
      ]
    },
    {
      "cell_type": "code",
      "metadata": {
        "colab": {
          "base_uri": "https://localhost:8080/"
        },
        "id": "XMHeS8Z_3TB-",
        "outputId": "330e7fa8-eece-4304-dc30-2d606bd6e2d9"
      },
      "source": [
        "b = [1, 2, 3, 4]\n",
        "b[0]"
      ],
      "execution_count": null,
      "outputs": [
        {
          "output_type": "execute_result",
          "data": {
            "text/plain": [
              "1"
            ]
          },
          "metadata": {
            "tags": []
          },
          "execution_count": 65
        }
      ]
    },
    {
      "cell_type": "code",
      "metadata": {
        "colab": {
          "base_uri": "https://localhost:8080/"
        },
        "id": "T0nhtWI13YoU",
        "outputId": "abd6bd27-3272-40d8-e042-e5b81c5b48d2"
      },
      "source": [
        "# Access the element on the second row and third column\n",
        "\n",
        "A[1, 2]"
      ],
      "execution_count": null,
      "outputs": [
        {
          "output_type": "execute_result",
          "data": {
            "text/plain": [
              "23"
            ]
          },
          "metadata": {
            "tags": []
          },
          "execution_count": 66
        }
      ]
    },
    {
      "cell_type": "code",
      "metadata": {
        "colab": {
          "base_uri": "https://localhost:8080/"
        },
        "id": "nvCouSEO4A2p",
        "outputId": "e9241c10-e929-4f35-954b-241f799be5af"
      },
      "source": [
        "# Create a matrix C\n",
        "\n",
        "c = np.array([[1,1],[2,2],[3,3]])\n",
        "c"
      ],
      "execution_count": null,
      "outputs": [
        {
          "output_type": "execute_result",
          "data": {
            "text/plain": [
              "array([[1, 1],\n",
              "       [2, 2],\n",
              "       [3, 3]])"
            ]
          },
          "metadata": {
            "tags": []
          },
          "execution_count": 68
        }
      ]
    },
    {
      "cell_type": "code",
      "metadata": {
        "colab": {
          "base_uri": "https://localhost:8080/"
        },
        "id": "t1INrNQP4WiR",
        "outputId": "90161bd1-5d1e-480f-a170-095c10d40e62"
      },
      "source": [
        "# Get the trasposed of c\n",
        "\n",
        "c.T"
      ],
      "execution_count": null,
      "outputs": [
        {
          "output_type": "execute_result",
          "data": {
            "text/plain": [
              "array([[1, 2, 3],\n",
              "       [1, 2, 3]])"
            ]
          },
          "metadata": {
            "tags": []
          },
          "execution_count": 69
        }
      ]
    },
    {
      "cell_type": "markdown",
      "metadata": {
        "id": "ce91oyKY4bgy"
      },
      "source": [
        "**Pandas**  \n",
        "\n",
        "most important that allow us to explore manipulate visulized to describe statistics descriptive analysis\n",
        "\n",
        "could have excel files, cvs files"
      ]
    },
    {
      "cell_type": "markdown",
      "metadata": {
        "id": "nI1KnYJg9Iyf"
      },
      "source": [
        "Plug and Play"
      ]
    },
    {
      "cell_type": "code",
      "metadata": {
        "id": "NX3PF6EM4dZD"
      },
      "source": [
        "import pandas as pd"
      ],
      "execution_count": null,
      "outputs": []
    },
    {
      "cell_type": "code",
      "metadata": {
        "id": "vzXjuwmu4zRI"
      },
      "source": [
        "import numpy as np"
      ],
      "execution_count": null,
      "outputs": []
    },
    {
      "cell_type": "code",
      "metadata": {
        "colab": {
          "base_uri": "https://localhost:8080/"
        },
        "id": "vmnLO1Vv49iL",
        "outputId": "eba38404-be00-43d4-9924-f1b8d67359b6"
      },
      "source": [
        "test_list = [100,200,300]\n",
        "pd.Series(data=test_list)"
      ],
      "execution_count": null,
      "outputs": [
        {
          "output_type": "execute_result",
          "data": {
            "text/plain": [
              "0    100\n",
              "1    200\n",
              "2    300\n",
              "dtype: int64"
            ]
          },
          "metadata": {
            "tags": []
          },
          "execution_count": 74
        }
      ]
    },
    {
      "cell_type": "markdown",
      "metadata": {
        "id": "Lq9w08Ix6F5P"
      },
      "source": [
        "https://archive.ics.uci.edu/ml/datasets.php"
      ]
    },
    {
      "cell_type": "code",
      "metadata": {
        "colab": {
          "base_uri": "https://localhost:8080/",
          "height": 202
        },
        "id": "VRnWBuzJ5Lub",
        "outputId": "c09ab43a-33ab-4082-c972-c606615ba48e"
      },
      "source": [
        "url='https://archive.ics.uci.edu/ml/machine-learning-databases/iris/iris.data'\n",
        "\n",
        "df = pd.read_csv(url)\n",
        "\n",
        "df.head()"
      ],
      "execution_count": null,
      "outputs": [
        {
          "output_type": "execute_result",
          "data": {
            "text/html": [
              "<div>\n",
              "<style scoped>\n",
              "    .dataframe tbody tr th:only-of-type {\n",
              "        vertical-align: middle;\n",
              "    }\n",
              "\n",
              "    .dataframe tbody tr th {\n",
              "        vertical-align: top;\n",
              "    }\n",
              "\n",
              "    .dataframe thead th {\n",
              "        text-align: right;\n",
              "    }\n",
              "</style>\n",
              "<table border=\"1\" class=\"dataframe\">\n",
              "  <thead>\n",
              "    <tr style=\"text-align: right;\">\n",
              "      <th></th>\n",
              "      <th>5.1</th>\n",
              "      <th>3.5</th>\n",
              "      <th>1.4</th>\n",
              "      <th>0.2</th>\n",
              "      <th>Iris-setosa</th>\n",
              "    </tr>\n",
              "  </thead>\n",
              "  <tbody>\n",
              "    <tr>\n",
              "      <th>0</th>\n",
              "      <td>4.9</td>\n",
              "      <td>3.0</td>\n",
              "      <td>1.4</td>\n",
              "      <td>0.2</td>\n",
              "      <td>Iris-setosa</td>\n",
              "    </tr>\n",
              "    <tr>\n",
              "      <th>1</th>\n",
              "      <td>4.7</td>\n",
              "      <td>3.2</td>\n",
              "      <td>1.3</td>\n",
              "      <td>0.2</td>\n",
              "      <td>Iris-setosa</td>\n",
              "    </tr>\n",
              "    <tr>\n",
              "      <th>2</th>\n",
              "      <td>4.6</td>\n",
              "      <td>3.1</td>\n",
              "      <td>1.5</td>\n",
              "      <td>0.2</td>\n",
              "      <td>Iris-setosa</td>\n",
              "    </tr>\n",
              "    <tr>\n",
              "      <th>3</th>\n",
              "      <td>5.0</td>\n",
              "      <td>3.6</td>\n",
              "      <td>1.4</td>\n",
              "      <td>0.2</td>\n",
              "      <td>Iris-setosa</td>\n",
              "    </tr>\n",
              "    <tr>\n",
              "      <th>4</th>\n",
              "      <td>5.4</td>\n",
              "      <td>3.9</td>\n",
              "      <td>1.7</td>\n",
              "      <td>0.4</td>\n",
              "      <td>Iris-setosa</td>\n",
              "    </tr>\n",
              "  </tbody>\n",
              "</table>\n",
              "</div>"
            ],
            "text/plain": [
              "   5.1  3.5  1.4  0.2  Iris-setosa\n",
              "0  4.9  3.0  1.4  0.2  Iris-setosa\n",
              "1  4.7  3.2  1.3  0.2  Iris-setosa\n",
              "2  4.6  3.1  1.5  0.2  Iris-setosa\n",
              "3  5.0  3.6  1.4  0.2  Iris-setosa\n",
              "4  5.4  3.9  1.7  0.4  Iris-setosa"
            ]
          },
          "metadata": {
            "tags": []
          },
          "execution_count": 82
        }
      ]
    },
    {
      "cell_type": "code",
      "metadata": {
        "colab": {
          "base_uri": "https://localhost:8080/",
          "height": 202
        },
        "id": "HyidTO4s8S5G",
        "outputId": "9eaf80e7-c14e-420f-e037-389b0120f8bd"
      },
      "source": [
        "iris = pd.read_csv(url, names=['sepal_length', 'sepal_width', 'petal_length', 'petal_width', 'species'])\n",
        "iris.head()"
      ],
      "execution_count": null,
      "outputs": [
        {
          "output_type": "execute_result",
          "data": {
            "text/html": [
              "<div>\n",
              "<style scoped>\n",
              "    .dataframe tbody tr th:only-of-type {\n",
              "        vertical-align: middle;\n",
              "    }\n",
              "\n",
              "    .dataframe tbody tr th {\n",
              "        vertical-align: top;\n",
              "    }\n",
              "\n",
              "    .dataframe thead th {\n",
              "        text-align: right;\n",
              "    }\n",
              "</style>\n",
              "<table border=\"1\" class=\"dataframe\">\n",
              "  <thead>\n",
              "    <tr style=\"text-align: right;\">\n",
              "      <th></th>\n",
              "      <th>sepal_length</th>\n",
              "      <th>sepal_width</th>\n",
              "      <th>petal_length</th>\n",
              "      <th>petal_width</th>\n",
              "      <th>species</th>\n",
              "    </tr>\n",
              "  </thead>\n",
              "  <tbody>\n",
              "    <tr>\n",
              "      <th>0</th>\n",
              "      <td>5.1</td>\n",
              "      <td>3.5</td>\n",
              "      <td>1.4</td>\n",
              "      <td>0.2</td>\n",
              "      <td>Iris-setosa</td>\n",
              "    </tr>\n",
              "    <tr>\n",
              "      <th>1</th>\n",
              "      <td>4.9</td>\n",
              "      <td>3.0</td>\n",
              "      <td>1.4</td>\n",
              "      <td>0.2</td>\n",
              "      <td>Iris-setosa</td>\n",
              "    </tr>\n",
              "    <tr>\n",
              "      <th>2</th>\n",
              "      <td>4.7</td>\n",
              "      <td>3.2</td>\n",
              "      <td>1.3</td>\n",
              "      <td>0.2</td>\n",
              "      <td>Iris-setosa</td>\n",
              "    </tr>\n",
              "    <tr>\n",
              "      <th>3</th>\n",
              "      <td>4.6</td>\n",
              "      <td>3.1</td>\n",
              "      <td>1.5</td>\n",
              "      <td>0.2</td>\n",
              "      <td>Iris-setosa</td>\n",
              "    </tr>\n",
              "    <tr>\n",
              "      <th>4</th>\n",
              "      <td>5.0</td>\n",
              "      <td>3.6</td>\n",
              "      <td>1.4</td>\n",
              "      <td>0.2</td>\n",
              "      <td>Iris-setosa</td>\n",
              "    </tr>\n",
              "  </tbody>\n",
              "</table>\n",
              "</div>"
            ],
            "text/plain": [
              "   sepal_length  sepal_width  petal_length  petal_width      species\n",
              "0           5.1          3.5           1.4          0.2  Iris-setosa\n",
              "1           4.9          3.0           1.4          0.2  Iris-setosa\n",
              "2           4.7          3.2           1.3          0.2  Iris-setosa\n",
              "3           4.6          3.1           1.5          0.2  Iris-setosa\n",
              "4           5.0          3.6           1.4          0.2  Iris-setosa"
            ]
          },
          "metadata": {
            "tags": []
          },
          "execution_count": 83
        }
      ]
    },
    {
      "cell_type": "markdown",
      "metadata": {
        "id": "g4mZKtv_9XNe"
      },
      "source": [
        "**Analytics: **   \n",
        "Descriptive analytics   \n",
        "Predictive  analytics  \n",
        "Prescriptive analytics "
      ]
    },
    {
      "cell_type": "code",
      "metadata": {
        "colab": {
          "base_uri": "https://localhost:8080/"
        },
        "id": "WeQ_44rA9LeR",
        "outputId": "bb878312-3207-434a-8b16-6eb107ee419a"
      },
      "source": [
        "iris.info()"
      ],
      "execution_count": null,
      "outputs": [
        {
          "output_type": "stream",
          "text": [
            "<class 'pandas.core.frame.DataFrame'>\n",
            "RangeIndex: 150 entries, 0 to 149\n",
            "Data columns (total 5 columns):\n",
            " #   Column        Non-Null Count  Dtype  \n",
            "---  ------        --------------  -----  \n",
            " 0   sepal_length  150 non-null    float64\n",
            " 1   sepal_width   150 non-null    float64\n",
            " 2   petal_length  150 non-null    float64\n",
            " 3   petal_width   150 non-null    float64\n",
            " 4   species       150 non-null    object \n",
            "dtypes: float64(4), object(1)\n",
            "memory usage: 6.0+ KB\n"
          ],
          "name": "stdout"
        }
      ]
    },
    {
      "cell_type": "code",
      "metadata": {
        "colab": {
          "base_uri": "https://localhost:8080/",
          "height": 294
        },
        "id": "3vzYzjf0B3ND",
        "outputId": "ceb034b8-53a6-4465-8bf0-29f1157c7633"
      },
      "source": [
        "iris.describe()"
      ],
      "execution_count": null,
      "outputs": [
        {
          "output_type": "execute_result",
          "data": {
            "text/html": [
              "<div>\n",
              "<style scoped>\n",
              "    .dataframe tbody tr th:only-of-type {\n",
              "        vertical-align: middle;\n",
              "    }\n",
              "\n",
              "    .dataframe tbody tr th {\n",
              "        vertical-align: top;\n",
              "    }\n",
              "\n",
              "    .dataframe thead th {\n",
              "        text-align: right;\n",
              "    }\n",
              "</style>\n",
              "<table border=\"1\" class=\"dataframe\">\n",
              "  <thead>\n",
              "    <tr style=\"text-align: right;\">\n",
              "      <th></th>\n",
              "      <th>sepal_length</th>\n",
              "      <th>sepal_width</th>\n",
              "      <th>petal_length</th>\n",
              "      <th>petal_width</th>\n",
              "    </tr>\n",
              "  </thead>\n",
              "  <tbody>\n",
              "    <tr>\n",
              "      <th>count</th>\n",
              "      <td>150.000000</td>\n",
              "      <td>150.000000</td>\n",
              "      <td>150.000000</td>\n",
              "      <td>150.000000</td>\n",
              "    </tr>\n",
              "    <tr>\n",
              "      <th>mean</th>\n",
              "      <td>5.843333</td>\n",
              "      <td>3.054000</td>\n",
              "      <td>3.758667</td>\n",
              "      <td>1.198667</td>\n",
              "    </tr>\n",
              "    <tr>\n",
              "      <th>std</th>\n",
              "      <td>0.828066</td>\n",
              "      <td>0.433594</td>\n",
              "      <td>1.764420</td>\n",
              "      <td>0.763161</td>\n",
              "    </tr>\n",
              "    <tr>\n",
              "      <th>min</th>\n",
              "      <td>4.300000</td>\n",
              "      <td>2.000000</td>\n",
              "      <td>1.000000</td>\n",
              "      <td>0.100000</td>\n",
              "    </tr>\n",
              "    <tr>\n",
              "      <th>25%</th>\n",
              "      <td>5.100000</td>\n",
              "      <td>2.800000</td>\n",
              "      <td>1.600000</td>\n",
              "      <td>0.300000</td>\n",
              "    </tr>\n",
              "    <tr>\n",
              "      <th>50%</th>\n",
              "      <td>5.800000</td>\n",
              "      <td>3.000000</td>\n",
              "      <td>4.350000</td>\n",
              "      <td>1.300000</td>\n",
              "    </tr>\n",
              "    <tr>\n",
              "      <th>75%</th>\n",
              "      <td>6.400000</td>\n",
              "      <td>3.300000</td>\n",
              "      <td>5.100000</td>\n",
              "      <td>1.800000</td>\n",
              "    </tr>\n",
              "    <tr>\n",
              "      <th>max</th>\n",
              "      <td>7.900000</td>\n",
              "      <td>4.400000</td>\n",
              "      <td>6.900000</td>\n",
              "      <td>2.500000</td>\n",
              "    </tr>\n",
              "  </tbody>\n",
              "</table>\n",
              "</div>"
            ],
            "text/plain": [
              "       sepal_length  sepal_width  petal_length  petal_width\n",
              "count    150.000000   150.000000    150.000000   150.000000\n",
              "mean       5.843333     3.054000      3.758667     1.198667\n",
              "std        0.828066     0.433594      1.764420     0.763161\n",
              "min        4.300000     2.000000      1.000000     0.100000\n",
              "25%        5.100000     2.800000      1.600000     0.300000\n",
              "50%        5.800000     3.000000      4.350000     1.300000\n",
              "75%        6.400000     3.300000      5.100000     1.800000\n",
              "max        7.900000     4.400000      6.900000     2.500000"
            ]
          },
          "metadata": {
            "tags": []
          },
          "execution_count": 87
        }
      ]
    },
    {
      "cell_type": "code",
      "metadata": {
        "id": "M4DZWgp2CGjs",
        "colab": {
          "base_uri": "https://localhost:8080/"
        },
        "outputId": "a53f30ea-2146-4bdc-c92a-5be54e7a61f0"
      },
      "source": [
        "iris.nunique()"
      ],
      "execution_count": null,
      "outputs": [
        {
          "output_type": "execute_result",
          "data": {
            "text/plain": [
              "sepal_length    35\n",
              "sepal_width     23\n",
              "petal_length    43\n",
              "petal_width     22\n",
              "species          3\n",
              "dtype: int64"
            ]
          },
          "metadata": {
            "tags": []
          },
          "execution_count": 88
        }
      ]
    }
  ]
}